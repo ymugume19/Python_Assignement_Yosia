{
 "cells": [
  {
   "cell_type": "markdown",
   "metadata": {},
   "source": [
    "# Python_Assignment"
   ]
  },
  {
   "cell_type": "code",
   "execution_count": 13,
   "metadata": {},
   "outputs": [],
   "source": [
    "from Bio import SeqIO\n",
    "from Bio.Data import CodonTable\n",
    "import pandas as pd"
   ]
  },
  {
   "cell_type": "markdown",
   "metadata": {},
   "source": [
    "We are creating a function called 'get sequence_from file'. This function will take as input any fasta file called \"fasta_fn\"\n",
    "Next we are craeting a dictionary and create a foward loop which for every fasta file will first isolate the description, then create string species name made of the second and third element of the description. Next we use each species name as a key in a dictionary and the sequence as its value\n",
    "This function is to parse the fasta file"
   ]
  },
  {
   "cell_type": "code",
   "execution_count": 14,
   "metadata": {},
   "outputs": [],
   "source": [
    "def get_sequences_from_file(fasta_fn):\n",
    "    sequence_data_dict = {}\n",
    "    for record in SeqIO.parse(fasta_fn, \"fasta\"):\n",
    "        description = record.description.split()\n",
    "        species_name = description[1] + \" \" + description[2]\n",
    "        sequence_data_dict[species_name] = record.seq\n",
    "    return(sequence_data_dict)"
   ]
  },
  {
   "cell_type": "markdown",
   "metadata": {},
   "source": [
    "#d = get_sequences_from_file('penguins_cytb.fasta')\n",
    "#print(d)"
   ]
  },
  {
   "cell_type": "code",
   "execution_count": 15,
   "metadata": {},
   "outputs": [],
   "source": [
    "d = get_sequences_from_file('penguins_cytb.fasta')"
   ]
  },
  {
   "cell_type": "code",
   "execution_count": 4,
   "metadata": {},
   "outputs": [
    {
     "name": "stdout",
     "output_type": "stream",
     "text": [
      "{'Aptenodytes forsteri': Seq('ATGGCCCCAAATCTCCGAAAATCCCATCCCCTCCTAAAAATAATTAATAACTCC...TAA', SingleLetterAlphabet()), 'Aptenodytes patagonicus': Seq('ATGGCCCCAAACCTCCGAAAATCCCATCCTCTCCTAAAAATAATTAATAACTCC...TAA', SingleLetterAlphabet()), 'Eudyptes chrysocome': Seq('ATGGCCCCCAACCTCCGAAAATCCCACCCCCTCCTAAAAACAATCAATAACTCC...TAA', SingleLetterAlphabet()), 'Eudyptes chrysolophus': Seq('ATGGCCCCCAACCTCCGAAAATCCCACCCCCTCCTAAAAACAATCAATAACTCC...TAA', SingleLetterAlphabet()), 'Eudyptes sclateri': Seq('ATGGCCCCCAACCTCCGAAAATCCCACCCCCTCCTAAAAACAATCAATAACTCC...TAA', SingleLetterAlphabet()), 'Eudyptula minor': Seq('ATGGCCCCCAACCTCCGAAAATCTCACCCCCTCCTAAAAATAATCAACAACTCT...TAA', SingleLetterAlphabet()), 'Pygoscelis adeliae': Seq('ATGGCCCCCAACCTCCGAAAATCCCACCCTCTCCTAAAAATAATTAACAACTCC...TAA', SingleLetterAlphabet()), 'Pygoscelis antarctica': Seq('ATGGCCCCCAACCTCCGAAAATCCCACCCTCTCCTAAAAATAATCAACAACTCC...TAG', SingleLetterAlphabet()), 'Pygoscelis papua': Seq('ATGGCCCCCAACCTTCGAAAATCCCACCCTCTCCTAAAAATAATCAACAAATCC...TAG', SingleLetterAlphabet()), 'Spheniscus demersus': Seq('ATGGCCCCCAACCTCCGAAAATCCCACCCTCTCCTAAAAACAATCAACAACTCC...TAA', SingleLetterAlphabet()), 'Spheniscus humboldti': Seq('ATGGCCCCCAACCTCCGAAAATCCCACCCTCTCCTAAAAACAATCAACAACTCC...TAA', SingleLetterAlphabet()), 'Spheniscus magellanicus': Seq('ATGGCCCCCAACCTCCGAAAATCCCACCCTCTCCTAAAAACAATCAACAACTCC...TAA', SingleLetterAlphabet())}\n"
     ]
    }
   ],
   "source": [
    "print(d)"
   ]
  },
  {
   "cell_type": "markdown",
   "metadata": {},
   "source": [
    "Next we want to write"
   ]
  },
  {
   "cell_type": "code",
   "execution_count": 16,
   "metadata": {},
   "outputs": [],
   "source": [
    "def translate_function(string_nucleotides): \n",
    "     mito_table = CodonTable.unambiguous_dna_by_name[\"Vertebrate Mitochondrial\"]\n",
    "     aa_seq_string = []\n",
    "     index = 0\n",
    "        \n",
    "     for pos in range(0,len(string_nucleotides)//3):\n",
    "        codon = string_nucleotides[index:index+3]\n",
    "        index += 3\n",
    "        if codon == \"TAA\" or codon == \"TAG\" or codon == \"AGA\" or codon == \"AGG\":\n",
    "            break\n",
    "        else:\n",
    "            aa = mito_table.forward_table[codon]\n",
    "            aa_seq_string.append(aa)\n",
    "            \n",
    "     return(aa_seq_string)"
   ]
  },
  {
   "cell_type": "code",
   "execution_count": 17,
   "metadata": {},
   "outputs": [
    {
     "name": "stdout",
     "output_type": "stream",
     "text": [
      "['M', 'A', 'P', 'N', 'L', 'R', 'K', 'S', 'H', 'P', 'L', 'L', 'K', 'M', 'I', 'N', 'N', 'S']\n"
     ]
    }
   ],
   "source": [
    "sequence = \"ATGGCCCCAAATCTCCGAAAATCCCATCCCCTCCTAAAAATAATTAATAACTCC\"\n",
    "print(translate_function(sequence))"
   ]
  },
  {
   "cell_type": "markdown",
   "metadata": {},
   "source": [
    "Alternative translation function\n",
    "Here, we shall use Biopython library called \"Alphabet\""
   ]
  },
  {
   "cell_type": "code",
   "execution_count": 18,
   "metadata": {},
   "outputs": [],
   "source": [
    "from Bio.Alphabet import generic_dna\n",
    "from Bio.Seq import Seq"
   ]
  },
  {
   "cell_type": "code",
   "execution_count": 19,
   "metadata": {},
   "outputs": [],
   "source": [
    "def alternative_translation(dna_seq): #defining the alternative function for the dna_seq\n",
    "    sequence = Seq(str(dna_seq), generic_dna) #creating object called sequence\n",
    "    aa_seq = sequence.translate(table = 2, to_stop = True) #creating variable called sequence\n",
    "    return(aa_seq)"
   ]
  },
  {
   "cell_type": "markdown",
   "metadata": {},
   "source": [
    "Loading packages needed to comput molecular weight"
   ]
  },
  {
   "cell_type": "code",
   "execution_count": 20,
   "metadata": {},
   "outputs": [],
   "source": [
    "from Bio.SeqUtils.ProtParam import ProteinAnalysis"
   ]
  },
  {
   "cell_type": "code",
   "execution_count": 21,
   "metadata": {},
   "outputs": [],
   "source": [
    "def compute_molecular_weight(aa_seq): #computing melecular weight\n",
    "    analyzed_seq = ProteinAnalysis(str(aa_seq)) #create a string of the amino acid sequence\n",
    "    m_weight= analyzed_seq.molecular_weight() #take analyzed seq and return the molecular weight\n",
    "    return(m_weight)"
   ]
  },
  {
   "cell_type": "code",
   "execution_count": 22,
   "metadata": {},
   "outputs": [],
   "source": [
    "def gc_content(dna_seq): #checking gc content\n",
    "    count = dna_seq.count(\"G\") + dna_seq.count(\"C\") #count the Gs and Cs\n",
    "    gc = 100 * count / len(dna_seq) #getting the percentage\n",
    "    return(gc) #returning gc"
   ]
  },
  {
   "cell_type": "markdown",
   "metadata": {},
   "source": [
    "Put comment for all the above"
   ]
  },
  {
   "cell_type": "markdown",
   "metadata": {},
   "source": [
    "Using the function*get_sequences_from_file* to get the swquence from penguins_cytb.fasta file in the repository\n",
    "Using pandasto read in the csv data frame of the body mass in the repository\n",
    "Creating a list of the species names from the body mass data frame"
   ]
  },
  {
   "cell_type": "code",
   "execution_count": 23,
   "metadata": {},
   "outputs": [],
   "source": [
    "cytb_seqs = get_sequences_from_file(\"penguins_cytb.fasta\") #extracting seqience from fasta file as a dictionary called cytb_seqs\n",
    "penguins_df = pd.read_csv(\"penguins_mass.csv\") # Using panda (pd) to read the csv file. Includes only data for body mass \n",
    "species_list = list(penguins_df.species) #extracting peguins species list called \"species_list\""
   ]
  },
  {
   "cell_type": "markdown",
   "metadata": {},
   "source": [
    "Here, i added two additional columns to the *penguins_df* nemed Molecular _weight and GC_content, and used the package **Numpy** to fill with NAS that stand for missing values"
   ]
  },
  {
   "cell_type": "code",
   "execution_count": 24,
   "metadata": {},
   "outputs": [],
   "source": [
    "import numpy as np #using numpy to populate the nan\n",
    "penguins_df = penguins_df.assign(Molecular_weight = np.nan, GC_content = np.nan)"
   ]
  },
  {
   "cell_type": "markdown",
   "metadata": {},
   "source": [
    "Writing a for-loop that translates each sequence and also gets molecular weight and computes the GC content of each translated sequence and adds those data to DataFrame"
   ]
  },
  {
   "cell_type": "code",
   "execution_count": 25,
   "metadata": {},
   "outputs": [
    {
     "name": "stderr",
     "output_type": "stream",
     "text": [
      "/Users/yosiamugume/anaconda3/lib/python3.7/site-packages/ipykernel_launcher.py:6: SettingWithCopyWarning: \n",
      "A value is trying to be set on a copy of a slice from a DataFrame\n",
      "\n",
      "See the caveats in the documentation: http://pandas.pydata.org/pandas-docs/stable/user_guide/indexing.html#returning-a-view-versus-a-copy\n",
      "  \n",
      "/Users/yosiamugume/anaconda3/lib/python3.7/site-packages/ipykernel_launcher.py:7: SettingWithCopyWarning: \n",
      "A value is trying to be set on a copy of a slice from a DataFrame\n",
      "\n",
      "See the caveats in the documentation: http://pandas.pydata.org/pandas-docs/stable/user_guide/indexing.html#returning-a-view-versus-a-copy\n",
      "  import sys\n"
     ]
    }
   ],
   "source": [
    "for key, value in cytb_seqs.items():\n",
    "    aa_seq = alternative_translation(value)\n",
    "    mol_weight = compute_molecular_weight(aa_seq)\n",
    "    gc_cont = gc_content(value)\n",
    "    index = penguins_df[penguins_df[\"species\"] == key].index\n",
    "    penguins_df.Molecular_weight[index] = mol_weight\n",
    "    penguins_df.GC_content[index] = gc_cont"
   ]
  },
  {
   "cell_type": "code",
   "execution_count": 26,
   "metadata": {},
   "outputs": [
    {
     "name": "stdout",
     "output_type": "stream",
     "text": [
      "                    species   mass  Molecular_weight  GC_content\n",
      "0      Aptenodytes forsteri  28.00        42459.6021   48.381452\n",
      "1   Aptenodytes patagonicus  13.40        42563.7067   49.693788\n",
      "2       Eudyptes chrysocome   2.80        42475.5753   51.181102\n",
      "3     Eudyptes chrysolophus   4.50        42445.5493   50.918635\n",
      "4         Eudyptes sclateri   4.25        42475.5753   50.831146\n",
      "5           Eudyptula minor   1.60        42491.6408   49.256343\n",
      "6        Pygoscelis adeliae   4.60        42458.6140   49.081365\n",
      "7     Pygoscelis antarctica   4.10        42404.5423   47.769029\n",
      "8          Pygoscelis papua   6.10        42595.8759   47.156605\n",
      "9       Spheniscus demersus   3.20        42431.5490   48.293963\n",
      "10     Spheniscus humboldti   4.75        42399.5520   49.256343\n",
      "11  Spheniscus magellanicus   3.40        42459.6021   48.206474\n",
      "['Aptenodytes forsteri', 'Aptenodytes patagonicus', 'Eudyptes chrysocome', 'Eudyptes chrysolophus', 'Eudyptes sclateri', 'Eudyptula minor', 'Pygoscelis adeliae', 'Pygoscelis antarctica', 'Pygoscelis papua', 'Spheniscus demersus', 'Spheniscus humboldti', 'Spheniscus magellanicus']\n"
     ]
    }
   ],
   "source": [
    "print(penguins_df)\n",
    "print(species_list)"
   ]
  },
  {
   "cell_type": "markdown",
   "metadata": {},
   "source": [
    "To ensure that my plot will be displayed in jupiter notebooki will call matplotlib%matplotlib "
   ]
  },
  {
   "cell_type": "code",
   "execution_count": 28,
   "metadata": {},
   "outputs": [
    {
     "data": {
      "text/plain": [
       "<matplotlib.axes._subplots.AxesSubplot at 0x11cd93250>"
      ]
     },
     "execution_count": 28,
     "metadata": {},
     "output_type": "execute_result"
    },
    {
     "data": {
      "image/png": "[encoded data removed]",
      "text/plain": [
       "<Figure size 432x288 with 1 Axes>"
      ]
     },
     "metadata": {
      "needs_background": "light"
     },
     "output_type": "display_data"
    }
   ],
   "source": [
    "penguins_df.plot(x = \"species\", y= \"mass\", kind = \"bar\", color = \"blue\",\n",
    "                title = \"Barplot of the mass of each species\")"
   ]
  },
  {
   "cell_type": "code",
   "execution_count": 29,
   "metadata": {},
   "outputs": [],
   "source": [
    "import seaborn as sbn #used to draw scatter plot"
   ]
  },
  {
   "cell_type": "code",
   "execution_count": 30,
   "metadata": {},
   "outputs": [
    {
     "data": {
      "text/plain": [
       "<seaborn.axisgrid.FacetGrid at 0x1a1fde4d10>"
      ]
     },
     "execution_count": 30,
     "metadata": {},
     "output_type": "execute_result"
    },
    {
     "data": {
      "image/png": "[encoded data removed]",
      "text/plain": [
       "<Figure size 864x576 with 1 Axes>"
      ]
     },
     "metadata": {
      "needs_background": "light"
     },
     "output_type": "display_data"
    }
   ],
   "source": [
    "sbn.lmplot(\"Molecular_weight\",\"GC_content\", data = penguins_df,\n",
    "          fit_reg = False, height = 8, aspect = 1.5)"
   ]
  },
  {
   "cell_type": "code",
   "execution_count": 31,
   "metadata": {},
   "outputs": [],
   "source": [
    "penguins_df.to_csv (\"penguins_mass_cytb.csv\")"
   ]
  },
  {
   "cell_type": "code",
   "execution_count": 32,
   "metadata": {},
   "outputs": [
    {
     "data": {
      "text/plain": [
       "<matplotlib.axes._subplots.AxesSubplot at 0x1a1fe6add0>"
      ]
     },
     "execution_count": 32,
     "metadata": {},
     "output_type": "execute_result"
    },
    {
     "data": {
      "image/png": "[encoded data removed]",
      "text/plain": [
       "<Figure size 432x288 with 1 Axes>"
      ]
     },
     "metadata": {
      "needs_background": "light"
     },
     "output_type": "display_data"
    }
   ],
   "source": [
    "penguins_df.plot(x = \"species\", y= \"GC_content\", kind = \"bar\", color = \"blue\",\n",
    "                title = \"Barplot of the GC_content of each species\")"
   ]
  },
  {
   "cell_type": "code",
   "execution_count": null,
   "metadata": {},
   "outputs": [],
   "source": []
  }
 ],
 "metadata": {
  "kernelspec": {
   "display_name": "Python 3",
   "language": "python",
   "name": "python3"
  },
  "language_info": {
   "codemirror_mode": {
    "name": "ipython",
    "version": 3
   },
   "file_extension": ".py",
   "mimetype": "text/x-python",
   "name": "python",
   "nbconvert_exporter": "python",
   "pygments_lexer": "ipython3",
   "version": "3.7.4"
  }
 },
 "nbformat": 4,
 "nbformat_minor": 2
}
